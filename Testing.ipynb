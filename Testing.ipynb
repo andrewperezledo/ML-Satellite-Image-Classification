{
 "cells": [
  {
   "cell_type": "markdown",
   "id": "fc838226-1343-4a66-ac9a-1426e2443a95",
   "metadata": {},
   "source": [
    "## Performance metrics and inference times for all models are also reported in Training.ipynb"
   ]
  },
  {
   "cell_type": "code",
   "execution_count": 1,
   "id": "ab70f528-9fab-407e-999e-0aa16b7c389e",
   "metadata": {
    "tags": []
   },
   "outputs": [],
   "source": [
    "import numpy as np\n",
    "import numpy.random as npr\n",
    "import matplotlib.pyplot as plt\n",
    "import pandas as pd\n",
    "\n",
    "from sklearn.metrics import accuracy_score, classification_report, f1_score, confusion_matrix\n",
    "from sklearn.pipeline import Pipeline\n",
    "from sklearn.model_selection import train_test_split\n",
    "import seaborn as sns\n",
    "import pickle\n",
    "from time import time"
   ]
  },
  {
   "cell_type": "code",
   "execution_count": 2,
   "id": "5ce795de-4e5d-4827-9a07-82b42bfa2c5b",
   "metadata": {
    "tags": []
   },
   "outputs": [],
   "source": [
    "X = np.load('ships_dataset/ship_data.npy')\n",
    "t = np.load('ships_dataset/ship_labels.npy')\n",
    "\n",
    "X_train, X_test, t_train, t_test = train_test_split(X, t, test_size = 0.2, random_state = 0, stratify = t)\n",
    "\n",
    "X_train_reshaped = X_train.reshape(X_train.shape[0], -1)\n",
    "X_test_reshaped = X_test.reshape(X_test.shape[0], -1)"
   ]
  },
  {
   "cell_type": "markdown",
   "id": "62bb6afe-4bcd-4e39-8d5f-dec87c5932fe",
   "metadata": {},
   "source": [
    "## Best Model for Question 1"
   ]
  },
  {
   "cell_type": "code",
   "execution_count": 3,
   "id": "b05aaa79-958e-417b-b557-1a25dfd83cc1",
   "metadata": {
    "tags": []
   },
   "outputs": [],
   "source": [
    " with open('Q1_RandForest.pkl', 'rb') as file:\n",
    "    Q1_RandForest = pickle.load(file)\n"
   ]
  },
  {
   "cell_type": "code",
   "execution_count": 5,
   "id": "fc91d0d0-66bf-43d5-a733-c1c100105a97",
   "metadata": {
    "tags": []
   },
   "outputs": [
    {
     "name": "stdout",
     "output_type": "stream",
     "text": [
      "Inference Time:  0.06721186637878418\n",
      "Accuracy: 0.9525\n",
      "F1 Score:  0.9341871682297214\n",
      "Confusion Matrix: \n",
      " [[592   8]\n",
      " [ 30 170]]\n",
      "      True Negative                  False Negative\n",
      "      False Positive                  True Positives\n"
     ]
    },
    {
     "data": {
      "image/png": "[encoded data removed]",
      "text/plain": [
       "<Figure size 432x288 with 2 Axes>"
      ]
     },
     "metadata": {
      "needs_background": "light"
     },
     "output_type": "display_data"
    }
   ],
   "source": [
    "start = time()\n",
    "y_pred = Q1_RandForest.predict(X_test_reshaped)\n",
    "end = time()\n",
    "total = end - start\n",
    "print (\"Inference Time: \", total)\n",
    "\n",
    "accuracy = accuracy_score(t_test, y_pred)\n",
    "print(\"Accuracy:\", accuracy)\n",
    "\n",
    "f1 = f1_score(t_test, y_pred, average='macro')\n",
    "print(\"F1 Score: \", f1)\n",
    "\n",
    "confusion_matrix1 = confusion_matrix(t_test, y_pred)\n",
    "print(\"Confusion Matrix: \\n\", confusion_matrix1)\n",
    "\n",
    "\n",
    "print(\"      True Negative                  False Negative\")\n",
    "sns.heatmap(confusion_matrix1, annot=True, fmt=\"d\") \n",
    "print(\"      False Positive                  True Positives\")\n",
    "\n"
   ]
  },
  {
   "cell_type": "markdown",
   "id": "ac89fba5-58b8-4c88-839d-e6affd519222",
   "metadata": {},
   "source": [
    "Our first model uses a Random Forest and acheives an accuracy of 95.2%, F1 score of 93.4%, and an inference time of 0.067 seconds."
   ]
  },
  {
   "cell_type": "markdown",
   "id": "a3a438c3-f30d-42ba-b09b-1cefe80d27cd",
   "metadata": {},
   "source": [
    "## Best Model for Question 3"
   ]
  },
  {
   "cell_type": "code",
   "execution_count": 9,
   "id": "d9f4d86c-9da5-430c-939b-108fb0439f5d",
   "metadata": {},
   "outputs": [],
   "source": [
    " with open('Q3_pca_svm.pkl', 'rb') as file:\n",
    "    Q3_pca_svm = pickle.load(file)"
   ]
  },
  {
   "cell_type": "code",
   "execution_count": 8,
   "id": "51fe4720-c182-4ae7-9a30-29e5ae18ac03",
   "metadata": {},
   "outputs": [
    {
     "name": "stdout",
     "output_type": "stream",
     "text": [
      "Inference Time:  0.17087721824645996\n",
      "Accuracy: 0.95875\n",
      "F1 Score:  0.9435626102292769\n",
      "Confusion Matrix: \n",
      " [[591   9]\n",
      " [ 24 176]]\n",
      "      True Negative                  False Negative\n",
      "      False Positive                  True Positives\n"
     ]
    },
    {
     "data": {
      "image/png": "[encoded data removed]",
      "text/plain": [
       "<Figure size 432x288 with 2 Axes>"
      ]
     },
     "metadata": {
      "needs_background": "light"
     },
     "output_type": "display_data"
    }
   ],
   "source": [
    "start = time()\n",
    "y_pred = Q3_pca_svm.predict(X_test_reshaped)\n",
    "end = time()\n",
    "total = end - start\n",
    "print (\"Inference Time: \", total)\n",
    "\n",
    "accuracy = accuracy_score(t_test, y_pred)\n",
    "print(\"Accuracy:\", accuracy)\n",
    "\n",
    "f1 = f1_score(t_test, y_pred, average='macro')\n",
    "print(\"F1 Score: \", f1)\n",
    "\n",
    "confusion_matrix2 = confusion_matrix(t_test, y_pred)\n",
    "print(\"Confusion Matrix: \\n\", confusion_matrix2)\n",
    "\n",
    "\n",
    "print(\"      True Negative                  False Negative\")\n",
    "sns.heatmap(confusion_matrix2, annot=True, fmt=\"d\") \n",
    "print(\"      False Positive                  True Positives\")\n",
    "\n"
   ]
  },
  {
   "cell_type": "markdown",
   "id": "2d86c073-8163-4064-82ae-fb4afadadd78",
   "metadata": {},
   "source": [
    "Our second model, the best out of the three,  uses a PCA dimension reduction and an SVM to acheive an accuracy of 95.8%, F1 score of 94.3%, and an inference time of 0.17 seconds."
   ]
  },
  {
   "cell_type": "markdown",
   "id": "d5b525dd-5dab-4397-9aa6-7e4ee56b629d",
   "metadata": {},
   "source": [
    "## Best Model for Question 4"
   ]
  },
  {
   "cell_type": "code",
   "execution_count": 10,
   "id": "df1b1c95-c15e-4355-982d-75676af98401",
   "metadata": {},
   "outputs": [],
   "source": [
    " with open('Q4_isomap_svm.pkl', 'rb') as file:\n",
    "    Q4_isomap_svm = pickle.load(file)"
   ]
  },
  {
   "cell_type": "code",
   "execution_count": 11,
   "id": "8dc1c70c-3b35-420f-8a2b-66c412bae1d9",
   "metadata": {},
   "outputs": [
    {
     "name": "stdout",
     "output_type": "stream",
     "text": [
      "Inference Time:  1.872368574142456\n",
      "Accuracy: 0.92875\n",
      "F1 Score:  0.9014605874764187\n",
      "Confusion Matrix: \n",
      " [[582  18]\n",
      " [ 39 161]]\n",
      "      True Negative                  False Negative\n",
      "      False Positive                  True Positives\n"
     ]
    },
    {
     "data": {
      "image/png": "[encoded data removed]",
      "text/plain": [
       "<Figure size 432x288 with 2 Axes>"
      ]
     },
     "metadata": {
      "needs_background": "light"
     },
     "output_type": "display_data"
    }
   ],
   "source": [
    "start = time()\n",
    "y_pred = Q4_isomap_svm.predict(X_test_reshaped)\n",
    "end = time()\n",
    "total = end - start\n",
    "print (\"Inference Time: \", total)\n",
    "\n",
    "accuracy = accuracy_score(t_test, y_pred)\n",
    "print(\"Accuracy:\", accuracy)\n",
    "\n",
    "f1 = f1_score(t_test, y_pred, average='macro')\n",
    "print(\"F1 Score: \", f1)\n",
    "\n",
    "confusion_matrix3 = confusion_matrix(t_test, y_pred)\n",
    "print(\"Confusion Matrix: \\n\", confusion_matrix3)\n",
    "\n",
    "\n",
    "print(\"      True Negative                  False Negative\")\n",
    "sns.heatmap(confusion_matrix3, annot=True, fmt=\"d\") \n",
    "print(\"      False Positive                  True Positives\")\n",
    "\n"
   ]
  },
  {
   "cell_type": "markdown",
   "id": "5ce497c7-0bae-4977-a60b-6668dd0182ba",
   "metadata": {},
   "source": [
    "Our third model uses an Isomap manifold learning and an SVM which acheives an accuracy of 92.8%, F1 score of 90.1%, and an inference time of 1.87 seconds."
   ]
  },
  {
   "cell_type": "code",
   "execution_count": null,
   "id": "b3a6ddda-49f0-4a3c-a857-820415193f0a",
   "metadata": {},
   "outputs": [],
   "source": []
  }
 ],
 "metadata": {
  "kernelspec": {
   "display_name": "Python 3 (ipykernel)",
   "language": "python",
   "name": "python3"
  },
  "language_info": {
   "codemirror_mode": {
    "name": "ipython",
    "version": 3
   },
   "file_extension": ".py",
   "mimetype": "text/x-python",
   "name": "python",
   "nbconvert_exporter": "python",
   "pygments_lexer": "ipython3",
   "version": "3.11.5"
  }
 },
 "nbformat": 4,
 "nbformat_minor": 5
}
